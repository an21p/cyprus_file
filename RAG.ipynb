{
 "cells": [
  {
   "cell_type": "code",
   "execution_count": 8,
   "id": "90700e3c",
   "metadata": {},
   "outputs": [],
   "source": [
    "import os\n",
    "\n",
    "def load_env_file(filepath=\".env\"):\n",
    "    \"\"\"\n",
    "    Reads a .env file and sets environment variables.\n",
    "    \"\"\"\n",
    "    try:\n",
    "        with open(filepath, \"r\") as f:\n",
    "            for line in f:\n",
    "                # Remove whitespace and comments\n",
    "                line = line.strip()\n",
    "                if not line or line.startswith('#'):\n",
    "                    continue\n",
    "\n",
    "                # Parse key-value pairs\n",
    "                key, value = line.split('=', 1)\n",
    "                key = key.strip()\n",
    "                value = value.strip().strip('\"\\'') # Handle single/double quotes\n",
    "\n",
    "                os.environ[key] = value\n",
    "    except FileNotFoundError:\n",
    "        print(f\"Warning: .env file not found at {filepath}. Skipping.\")\n",
    "\n",
    "# Run the function to load your variables\n",
    "load_env_file()\n",
    "\n",
    "# Access the environment variable\n",
    "api_key = os.getenv('GOOGLE_API_KEY')\n",
    "# print(f\"My API key is: {api_key}\")\n",
    "# print(f\"API Key from environment: {os.getenv('GOOGLE_API_KEY')}\")"
   ]
  },
  {
   "cell_type": "code",
   "execution_count": 9,
   "id": "ad493636-5820-4818-bf3b-2996fd8f15e5",
   "metadata": {},
   "outputs": [
    {
     "name": "stderr",
     "output_type": "stream",
     "text": [
      "/var/folders/5_/86x7msms3b9d5qzksrmtsl6c0000gn/T/ipykernel_94843/1934742543.py:14: DeprecationWarning: Call to deprecated class Gemini. (Should use `llama-index-llms-google-genai` instead, using Google's latest unified SDK. See: https://docs.llamaindex.ai/en/stable/examples/llm/google_genai/)\n",
      "  Settings.llm = Gemini(model=\"gemini-2.5-pro\")\n",
      "/var/folders/5_/86x7msms3b9d5qzksrmtsl6c0000gn/T/ipykernel_94843/1934742543.py:15: DeprecationWarning: Call to deprecated class GeminiEmbedding. (Should use `llama-index-embeddings-google-genai` instead, using Google's latest unified SDK. See: https://docs.llamaindex.ai/en/stable/examples/embeddings/google_genai/)\n",
      "  Settings.embed_model = GeminiEmbedding()\n",
      "/var/folders/5_/86x7msms3b9d5qzksrmtsl6c0000gn/T/ipykernel_94843/1934742543.py:18: DeprecationWarning: Call to deprecated class GeminiEmbedding. (Should use `llama-index-embeddings-google-genai` instead, using Google's latest unified SDK. See: https://docs.llamaindex.ai/en/stable/examples/embeddings/google_genai/)\n",
      "  Settings.embed_model = GeminiEmbedding(model_name=\"models/embedding-001\")\n"
     ]
    }
   ],
   "source": [
    "import os\n",
    "from llama_index.core import SimpleDirectoryReader, VectorStoreIndex, StorageContext, load_index_from_storage\n",
    "from llama_index.llms.gemini import Gemini\n",
    "from llama_index.embeddings.gemini import GeminiEmbedding\n",
    "from llama_index.core import Settings\n",
    "from llama_index.core.tools import QueryEngineTool, ToolMetadata\n",
    "from llama_index.core.agent.workflow import ReActAgent\n",
    "from llama_index.core.workflow import Context\n",
    "from llama_index.core.agent.workflow import ToolCallResult, AgentStream\n",
    "from llama_index.core.node_parser import SentenceSplitter\n",
    "from llama_index.retrievers.bm25 import BM25Retriever\n",
    "\n",
    "# Or set it directly in the Settings\n",
    "Settings.llm = Gemini(model=\"gemini-2.5-pro\")\n",
    "Settings.embed_model = GeminiEmbedding()\n",
    "Settings.chunk_size = 512\n",
    "Settings.node_parser = SentenceSplitter(chunk_size=512, chunk_overlap=50)\n",
    "Settings.embed_model = GeminiEmbedding(model_name=\"models/embedding-001\")\n"
   ]
  },
  {
   "cell_type": "code",
   "execution_count": 10,
   "id": "6cfd5a38",
   "metadata": {},
   "outputs": [
    {
     "name": "stdout",
     "output_type": "stream",
     "text": [
      "Index not found. Building a new index...\n"
     ]
    }
   ],
   "source": [
    "DIR=\"ocr\"\n",
    "DIR=\"test\"\n",
    "SOURCE_DIR=f\"./{DIR}\"\n",
    "PERSIST_DIR=f\"./storage/{DIR}\"\n",
    "\n",
    "if not os.path.exists(PERSIST_DIR):\n",
    "    print(\"Index not found. Building a new index...\")\n",
    "    # Load documents from a directory\n",
    "    documents = SimpleDirectoryReader(SOURCE_DIR).load_data()\n",
    "    # Create the VectorStoreIndex\n",
    "    index = VectorStoreIndex.from_documents(documents)\n",
    "    # Persist the index to disk\n",
    "    index.storage_context.persist(persist_dir=PERSIST_DIR)\n",
    "else:\n",
    "    print(\"Loading existing index from storage...\")\n",
    "    # Rebuild storage context\n",
    "    storage_context = StorageContext.from_defaults(persist_dir=PERSIST_DIR)\n",
    "    # Load the index from the storage context\n",
    "    index = load_index_from_storage(storage_context)\n",
    "\n",
    "index_engine = index.as_query_engine(similarity_top_k=5)\n",
    "\n",
    "# bm25_retriever = BM25Retriever.from_defaults(\n",
    "#     nodes=list(index.storage_context.docstore.docs.values()),\n",
    "#     similarity_top_k=5, # Retrieve top 5 keyword results\n",
    "# )\n",
    "\n",
    "query_engine_tools = [\n",
    "    QueryEngineTool.from_defaults(\n",
    "        query_engine=index_engine,\n",
    "        name=\"cyprus_file\",\n",
    "        description=(\n",
    "            \"Report of the Parliamentary Committee on the Cyprus File\"\n",
    "            \"Use a detailed plain text question as input to the tool.\"\n",
    "        ),\n",
    "    ),\n",
    "    # QueryEngineTool.from_defaults(\n",
    "    #     query_engine=index_engine,\n",
    "    #     name=\"cyprus_file\",\n",
    "    #     description=(\n",
    "    #         \"Report of the Parliamentary Committee on the Cyprus File\"\n",
    "    #         \"Use a detailed plain text question as input to the tool.\"\n",
    "    #     ),\n",
    "    # ),\n",
    "]"
   ]
  },
  {
   "cell_type": "code",
   "execution_count": 7,
   "id": "0fce4aed-5b79-452a-8507-cde53b72d2cb",
   "metadata": {},
   "outputs": [
    {
     "name": "stdout",
     "output_type": "stream",
     "text": [
      "⚙️  Creating chat engine...\n",
      "✅ Chat engine ready. Type 'exit' or 'quit' to end the chat.\n",
      "--------------------------------------------------\n"
     ]
    },
    {
     "name": "stdin",
     "output_type": "stream",
     "text": [
      "Ask a question:  Who is makarios?\n"
     ]
    },
    {
     "name": "stdout",
     "output_type": "stream",
     "text": [
      "\n",
      "Gemini: Based on the provided information, Makarios is mentioned in the context of the Kofinou incident. The document states that according to witness testimonies, Makarios was not responsible for planning or causing this event.\n",
      "\n",
      "Here are the key points from the provided text:\n",
      "\n",
      "*   **Not Responsible for Kofinou Incident:** The document explicitly states that witness testimonies show the Kofinou incident was planned and caused by the Athens junta and \"in no case by Makarios\".\n",
      "*   **Context:** This information is presented in a section discussing the Kofinou incident.\n",
      "\n",
      "**Source:**\n",
      "*   kipros Porisma Fakelou.pdf, page 48\n",
      "--------------------------------------------------\n"
     ]
    },
    {
     "name": "stdin",
     "output_type": "stream",
     "text": [
      "Ask a question:  summarise the document\n"
     ]
    },
    {
     "name": "stdout",
     "output_type": "stream",
     "text": [
      "\n",
      "Gemini: Based on the provided context from the document \"kipros Porisma Fakelou.pdf,\" the text appears to be a report or finding concerning various political and historical events in Cyprus. The snippets touch upon different individuals, organizations, and incidents.\n",
      "\n",
      "Here is a summary of the key points from the provided information:\n",
      "\n",
      "*   **Political Organizations and Intrigue:** The document discusses an organization named \"Hellenic Resistance\" (Ελληνική Αντίστασις). It is mentioned in connection with an assassination attempt and is described as being directly linked to an organization in Rome.\n",
      "    *   **Source:** kipros Porisma Fakelou.pdf, page 54\n",
      "*   **Key Figures Implicated:** The leaders of the Rome-based organization are identified as Andreas Papandreou and Nikolaidis. The Cypriot minister Yiorkatzis is also noted as being involved with this group.\n",
      "    *   **Source:** kipros Porisma Fakelou.pdf, page 54\n",
      "*   **Succession of Grivas:** There is a mention of Georgios Grivas and the plans for his succession. A report, which could not be confirmed, suggested that a small council was appointed to manage the succession while Grivas was still alive.\n",
      "    *   **Source:** kipros Porisma Fakelou.pdf, page 83\n",
      "*   **The Kofinou Incident:** The report addresses the Kofinou incident, stating that based on witness testimony, it was planned and caused by the Athens junta and explicitly \"in no case by Makarios.\"\n",
      "    *   **Source:** kipros Porisma Fakelou.pdf, page 48\n",
      "\n",
      "In essence, the document seems to be an investigative report detailing complex political relationships, covert activities, and specific historical events involving prominent Greek and Cypriot figures during a turbulent period.\n",
      "--------------------------------------------------\n"
     ]
    },
    {
     "name": "stdin",
     "output_type": "stream",
     "text": [
      "Ask a question:  Diffuculty of acquiring testinony\n"
     ]
    },
    {
     "name": "stdout",
     "output_type": "stream",
     "text": [
      "\n",
      "Gemini: Empty Response\n",
      "--------------------------------------------------\n"
     ]
    },
    {
     "name": "stdin",
     "output_type": "stream",
     "text": [
      "Ask a question:  can you tell me about the difficulty of acquiring testemony\n"
     ]
    },
    {
     "name": "stdout",
     "output_type": "stream",
     "text": [
      "\n",
      "Gemini: Based on the provided context, the document highlights several instances that point to the difficulty of acquiring complete and confirmed testimony.\n",
      "\n",
      "Here are the key points regarding the challenges in obtaining testimony:\n",
      "\n",
      "*   **Inability to Secure Testimony:** The committee explicitly \"did not manage to secure the testimony\" of Stylianos Pattakos, who was the Minister to the Prime Minister's Office in the junta government. This is a direct example of a key individual's testimony being unobtainable.\n",
      "    *   **Source:** kipros Porisma Fakelou.pdf, page 48\n",
      "\n",
      "*   **Unconfirmed Information:** In another instance, the document mentions a report about a small council being\n",
      "--------------------------------------------------\n"
     ]
    },
    {
     "ename": "KeyboardInterrupt",
     "evalue": "Interrupted by user",
     "output_type": "error",
     "traceback": [
      "\u001b[31m---------------------------------------------------------------------------\u001b[39m",
      "\u001b[31mKeyboardInterrupt\u001b[39m                         Traceback (most recent call last)",
      "\u001b[36mCell\u001b[39m\u001b[36m \u001b[39m\u001b[32mIn[7]\u001b[39m\u001b[32m, line 21\u001b[39m\n\u001b[32m     19\u001b[39m \u001b[38;5;66;03m# Start the conversation loop\u001b[39;00m\n\u001b[32m     20\u001b[39m \u001b[38;5;28;01mwhile\u001b[39;00m \u001b[38;5;28;01mTrue\u001b[39;00m:\n\u001b[32m---> \u001b[39m\u001b[32m21\u001b[39m     query = \u001b[38;5;28;43minput\u001b[39;49m\u001b[43m(\u001b[49m\u001b[33;43m\"\u001b[39;49m\u001b[33;43mAsk a question: \u001b[39;49m\u001b[33;43m\"\u001b[39;49m\u001b[43m)\u001b[49m\n\u001b[32m     22\u001b[39m     \u001b[38;5;28;01mif\u001b[39;00m query.lower() \u001b[38;5;129;01min\u001b[39;00m [\u001b[33m\"\u001b[39m\u001b[33mquit\u001b[39m\u001b[33m\"\u001b[39m, \u001b[33m\"\u001b[39m\u001b[33mexit\u001b[39m\u001b[33m\"\u001b[39m]:\n\u001b[32m     23\u001b[39m         \u001b[38;5;28;01mbreak\u001b[39;00m\n",
      "\u001b[36mFile \u001b[39m\u001b[32m~/code/python/cyprus/.venv/lib/python3.13/site-packages/ipykernel/kernelbase.py:1275\u001b[39m, in \u001b[36mKernel.raw_input\u001b[39m\u001b[34m(self, prompt)\u001b[39m\n\u001b[32m   1273\u001b[39m     msg = \u001b[33m\"\u001b[39m\u001b[33mraw_input was called, but this frontend does not support input requests.\u001b[39m\u001b[33m\"\u001b[39m\n\u001b[32m   1274\u001b[39m     \u001b[38;5;28;01mraise\u001b[39;00m StdinNotImplementedError(msg)\n\u001b[32m-> \u001b[39m\u001b[32m1275\u001b[39m \u001b[38;5;28;01mreturn\u001b[39;00m \u001b[38;5;28;43mself\u001b[39;49m\u001b[43m.\u001b[49m\u001b[43m_input_request\u001b[49m\u001b[43m(\u001b[49m\n\u001b[32m   1276\u001b[39m \u001b[43m    \u001b[49m\u001b[38;5;28;43mstr\u001b[39;49m\u001b[43m(\u001b[49m\u001b[43mprompt\u001b[49m\u001b[43m)\u001b[49m\u001b[43m,\u001b[49m\n\u001b[32m   1277\u001b[39m \u001b[43m    \u001b[49m\u001b[38;5;28;43mself\u001b[39;49m\u001b[43m.\u001b[49m\u001b[43m_parent_ident\u001b[49m\u001b[43m[\u001b[49m\u001b[33;43m\"\u001b[39;49m\u001b[33;43mshell\u001b[39;49m\u001b[33;43m\"\u001b[39;49m\u001b[43m]\u001b[49m\u001b[43m,\u001b[49m\n\u001b[32m   1278\u001b[39m \u001b[43m    \u001b[49m\u001b[38;5;28;43mself\u001b[39;49m\u001b[43m.\u001b[49m\u001b[43mget_parent\u001b[49m\u001b[43m(\u001b[49m\u001b[33;43m\"\u001b[39;49m\u001b[33;43mshell\u001b[39;49m\u001b[33;43m\"\u001b[39;49m\u001b[43m)\u001b[49m\u001b[43m,\u001b[49m\n\u001b[32m   1279\u001b[39m \u001b[43m    \u001b[49m\u001b[43mpassword\u001b[49m\u001b[43m=\u001b[49m\u001b[38;5;28;43;01mFalse\u001b[39;49;00m\u001b[43m,\u001b[49m\n\u001b[32m   1280\u001b[39m \u001b[43m\u001b[49m\u001b[43m)\u001b[49m\n",
      "\u001b[36mFile \u001b[39m\u001b[32m~/code/python/cyprus/.venv/lib/python3.13/site-packages/ipykernel/kernelbase.py:1320\u001b[39m, in \u001b[36mKernel._input_request\u001b[39m\u001b[34m(self, prompt, ident, parent, password)\u001b[39m\n\u001b[32m   1317\u001b[39m \u001b[38;5;28;01mexcept\u001b[39;00m \u001b[38;5;167;01mKeyboardInterrupt\u001b[39;00m:\n\u001b[32m   1318\u001b[39m     \u001b[38;5;66;03m# re-raise KeyboardInterrupt, to truncate traceback\u001b[39;00m\n\u001b[32m   1319\u001b[39m     msg = \u001b[33m\"\u001b[39m\u001b[33mInterrupted by user\u001b[39m\u001b[33m\"\u001b[39m\n\u001b[32m-> \u001b[39m\u001b[32m1320\u001b[39m     \u001b[38;5;28;01mraise\u001b[39;00m \u001b[38;5;167;01mKeyboardInterrupt\u001b[39;00m(msg) \u001b[38;5;28;01mfrom\u001b[39;00m\u001b[38;5;250m \u001b[39m\u001b[38;5;28;01mNone\u001b[39;00m\n\u001b[32m   1321\u001b[39m \u001b[38;5;28;01mexcept\u001b[39;00m \u001b[38;5;167;01mException\u001b[39;00m:\n\u001b[32m   1322\u001b[39m     \u001b[38;5;28mself\u001b[39m.log.warning(\u001b[33m\"\u001b[39m\u001b[33mInvalid Message:\u001b[39m\u001b[33m\"\u001b[39m, exc_info=\u001b[38;5;28;01mTrue\u001b[39;00m)\n",
      "\u001b[31mKeyboardInterrupt\u001b[39m: Interrupted by user"
     ]
    }
   ],
   "source": [
    "# --- Chatting ---\n",
    "# Create a chat engine\n",
    "# A chat engine is designed for conversational, back-and-forth interactions.\n",
    "print(\"⚙️  Creating chat engine...\")\n",
    "chat_engine = index.as_chat_engine(\n",
    "    chat_mode=\"context\",\n",
    "    verbose=True,\n",
    "    system_prompt=\"You are a helpful assistant that can answer questions about the Cyprus File. \" \\\n",
    "    \"You can use the provided tools to answer questions. \" \\\n",
    "    \"If you don't know the answer, you should say 'I don't know'. \" \\\n",
    "    \"You should always use the tools to answer questions, even if you think you know the answer.\" \\\n",
    "    \"You should always provide a detailed answer, even if the question is simple.\" \\\n",
    "    \"You should always provide a list of key points in your answer.\" \\\n",
    "    \"Always cite the source of your information from the context.\\n\"\n",
    ")\n",
    "print(\"✅ Chat engine ready. Type 'exit' or 'quit' to end the chat.\")\n",
    "print(\"-\" * 50)\n",
    "\n",
    "# Start the conversation loop\n",
    "while True:\n",
    "    query = input(\"Ask a question: \")\n",
    "    if query.lower() in [\"quit\", \"exit\"]:\n",
    "        break\n",
    "    \n",
    "    # Get the response from the chat engine\n",
    "    response = chat_engine.chat(query)\n",
    "    \n",
    "    # Print the response\n",
    "    print(\"\\nGemini:\", response)\n",
    "    print(\"-\" * 50)"
   ]
  },
  {
   "cell_type": "code",
   "execution_count": null,
   "id": "90328095-6609-4b35-bac3-8db46d239db3",
   "metadata": {},
   "outputs": [],
   "source": []
  },
  {
   "cell_type": "code",
   "execution_count": 44,
   "id": "69ace870",
   "metadata": {},
   "outputs": [],
   "source": [
    "agent = ReActAgent(\n",
    "    tools=query_engine_tools,\n",
    "    llm=Settings.llm,\n",
    "    # verbose=True,\n",
    "    system_prompt=\"You are a helpful assistant that can answer questions about the Cyprus File. \" \\\n",
    "    \"You can use the provided tools to answer questions. \" \\\n",
    "    \"If you don't know the answer, you should say 'I don't know'. \" \\\n",
    "    \"You should always use the tools to answer questions, even if you think you know the answer.\" \\\n",
    "    \"You should always provide a detailed answer, even if the question is simple.\" \\\n",
    "    \"You should always provide a list of key points in your answer.\" \\\n",
    "    \"Always cite the source of your information from the context.\\n\"\n",
    ")\n",
    "\n",
    "# context to hold this session/state\n",
    "\n",
    "ctx = Context(agent)"
   ]
  },
  {
   "cell_type": "code",
   "execution_count": 45,
   "id": "7fd6e6ff",
   "metadata": {},
   "outputs": [
    {
     "name": "stdout",
     "output_type": "stream",
     "text": [
      "The commission, presided over by Christos Basagiannis, held sessions on dates including October 23, 1986, and December 3, 1986. During these sessions, the commission investigated various matters, including the general mobilization in Greece on July 20th and the circumstances surrounding the discharge and subsequent dismissal of a military witness. The broader context of the commission's work involved the coup against Makarios and the role of Greek military forces in Cyprus, which were considered a defensive necessity by the Cypriot side.\n",
      "Exiting the agent.\n"
     ]
    }
   ],
   "source": [
    "while True:\n",
    "    user_input = input(\"Enter your question: \")\n",
    "    if user_input.lower() in [None, '', \"exit\", \"quit\"]:\n",
    "        print(\"Exiting the agent.\")\n",
    "        break\n",
    "    handler = agent.run(user_input, ctx=ctx)\n",
    "\n",
    "    # async for ev in handler.stream_events():\n",
    "    #     # if isinstance(ev, ToolCallResult):\n",
    "    #     #     print_wrapped_response(f\"\\nCall {ev.tool_name} with {ev.tool_kwargs}\\nReturned: {ev.tool_output}\")\n",
    "    #     if isinstance(ev, AgentStream):\n",
    "    #         print(f\"{ev.delta}\", end=\"\", flush=True)\n",
    "\n",
    "    response = await handler\n",
    "    print(str(response))"
   ]
  },
  {
   "cell_type": "code",
   "execution_count": null,
   "id": "8cc8e770",
   "metadata": {},
   "outputs": [],
   "source": []
  }
 ],
 "metadata": {
  "kernelspec": {
   "display_name": "Python 3 (ipykernel)",
   "language": "python",
   "name": "python3"
  },
  "language_info": {
   "codemirror_mode": {
    "name": "ipython",
    "version": 3
   },
   "file_extension": ".py",
   "mimetype": "text/x-python",
   "name": "python",
   "nbconvert_exporter": "python",
   "pygments_lexer": "ipython3",
   "version": "3.13.5"
  }
 },
 "nbformat": 4,
 "nbformat_minor": 5
}
